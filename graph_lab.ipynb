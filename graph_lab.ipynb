{
 "cells": [
  {
   "cell_type": "markdown",
   "id": "2d65a8a5-860e-41d8-ac27-fabb65da8243",
   "metadata": {},
   "source": [
    "# Graph Lab"
   ]
  },
  {
   "cell_type": "markdown",
   "id": "0287692e-0294-4c54-8ad3-c8d8425ab85c",
   "metadata": {},
   "source": [
    "## Header information:\n",
    "\n",
    "  - Author #1: Evan Placenis (placenie@mcmaster.ca)\n",
    "  - Author #2: Jad Haytaoglu (email@mcmaster.ca)\n",
    "  - Gitlab URL: http://gitlab.cas.mcmaster.ca/haytaogj/l1-graph-lab\n",
    "  - Avenue to Learn group name: Graph 45"
   ]
  },
  {
   "cell_type": "code",
   "execution_count": null,
   "id": "a5bfd5d2-d70e-4289-aec2-0810e6812328",
   "metadata": {},
   "outputs": [],
   "source": [
    "from matplotlib import pyplot as plt\n",
    "from BuildGraph import BuildGraph\n",
    "from Graph import Graph\n",
    "from MetricsStrategy.\n",
    "import csv\n",
    "\n",
    "\n",
    "\n",
    "\n",
    "dev_x = [1,2,3,4,5,6]\n",
    "\n",
    "dev_y = [degOne,degTwo,degThree,degFour,degFive,degSix]\n",
    "\n",
    "plt.plot(dev_x, dev_y)\n",
    "\n",
    "plt.xlabel('degree')\n",
    "plt.ylabel('# of nodes')\n",
    "plt.title('distribution of nodes degree')"
   ]
  }
 ],
 "metadata": {
  "kernelspec": {
   "display_name": "Python 3 (ipykernel)",
   "language": "python",
   "name": "python3"
  },
  "language_info": {
   "codemirror_mode": {
    "name": "ipython",
    "version": 3
   },
   "file_extension": ".py",
   "mimetype": "text/x-python",
   "name": "python",
   "nbconvert_exporter": "python",
   "pygments_lexer": "ipython3",
   "version": "3.10.7"
  },
  "vscode": {
   "interpreter": {
    "hash": "dbaa40d5101b8b20904cb51fc315c5f226420e02def34fb420d7ac96731ea5ae"
   }
  }
 },
 "nbformat": 4,
 "nbformat_minor": 5
}
