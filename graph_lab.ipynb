{
 "cells": [
  {
   "cell_type": "markdown",
   "id": "2d65a8a5-860e-41d8-ac27-fabb65da8243",
   "metadata": {},
   "source": [
    "# Graph Lab"
   ]
  },
  {
   "cell_type": "markdown",
   "id": "0287692e-0294-4c54-8ad3-c8d8425ab85c",
   "metadata": {},
   "source": [
    "## Header information:\n",
    "\n",
    "  - Author #1: Evan Placenis (placenie@mcmaster.ca)\n",
    "  - Author #2: Jad Haytaoglu (haytaogj@mcmaster.ca)\n",
    "  - Gitlab URL: https://gitlab.cas.mcmaster.ca/haytaogj/l1-graph-lab.git\n",
    "  - Avenue to Learn group name: Graph 45"
   ]
  },
  {
   "cell_type": "code",
   "execution_count": 10,
   "id": "a5bfd5d2-d70e-4289-aec2-0810e6812328",
   "metadata": {},
   "outputs": [
    {
     "name": "stdout",
     "output_type": "stream",
     "text": [
      "[0, 1, 2, 3, 4, 5, 6, 7] dev_x\n",
      "[1, 25, 216, 23, 27, 4, 5, 2] dev_y\n"
     ]
    },
    {
     "data": {
      "image/png": "[encoded data removed]",
      "text/plain": [
       "<Figure size 432x288 with 1 Axes>"
      ]
     },
     "metadata": {
      "needs_background": "light"
     },
     "output_type": "display_data"
    }
   ],
   "source": [
    "#CREATE GRAPH AND PLOT DEGREE METRIC\n",
    "\n",
    "from src.Metrics.MetricsStrategy import *\n",
    "from src.Graphing.BuildGraph import *\n",
    "from src.Plotting.DegreePlot import *\n",
    "\n",
    "#i) Build Graph\n",
    "graph = BuildGraph().build_graph()\n",
    "\n",
    "#ii) Compute other metrics..?\n",
    "\n",
    "#iii) Node Degree Distribution Plot\n",
    "nodeDegs = nodeDegreeStrategy().create_metric(graph.get_adjList())[0] #list of (node,deg) tuples\n",
    "\n",
    "plot = DegreePlot().graph_degree_plot(nodeDegs)\n",
    "\n"
   ]
  },
  {
   "cell_type": "markdown",
   "id": "cf30a711",
   "metadata": {},
   "source": [
    "Initial Class Diagram:\n"
   ]
  },
  {
   "cell_type": "markdown",
   "id": "0ad2b42b",
   "metadata": {},
   "source": [
    "![ alt text for screen readers](path/to/image.png)"
   ]
  },
  {
   "cell_type": "markdown",
   "id": "9a5c6800",
   "metadata": {},
   "source": [
    "Revised Class Diagram:\n"
   ]
  },
  {
   "cell_type": "markdown",
   "id": "d268225e",
   "metadata": {},
   "source": [
    "![ alt text for screen readers](path/to/image.png)"
   ]
  },
  {
   "cell_type": "markdown",
   "id": "c2657a82",
   "metadata": {},
   "source": [
    "Design Choice Justification:"
   ]
  },
  {
   "cell_type": "markdown",
   "id": "20c68798",
   "metadata": {},
   "source": []
  },
  {
   "cell_type": "markdown",
   "id": "684a922f",
   "metadata": {},
   "source": [
    "Benchmark Results and Analysis:"
   ]
  },
  {
   "cell_type": "markdown",
   "id": "d77f9302",
   "metadata": {},
   "source": []
  },
  {
   "cell_type": "markdown",
   "id": "4dcc7ce8",
   "metadata": {},
   "source": [
    "Splitting the Work:"
   ]
  },
  {
   "cell_type": "markdown",
   "id": "30dc610d",
   "metadata": {},
   "source": []
  }
 ],
 "metadata": {
  "kernelspec": {
   "display_name": "Python 3 (ipykernel)",
   "language": "python",
   "name": "python3"
  },
  "language_info": {
   "codemirror_mode": {
    "name": "ipython",
    "version": 3
   },
   "file_extension": ".py",
   "mimetype": "text/x-python",
   "name": "python",
   "nbconvert_exporter": "python",
   "pygments_lexer": "ipython3",
   "version": "3.10.7"
  },
  "vscode": {
   "interpreter": {
    "hash": "dbaa40d5101b8b20904cb51fc315c5f226420e02def34fb420d7ac96731ea5ae"
   }
  }
 },
 "nbformat": 4,
 "nbformat_minor": 5
}
