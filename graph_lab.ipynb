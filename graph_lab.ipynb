{
 "cells": [
  {
   "cell_type": "markdown",
   "id": "2d65a8a5-860e-41d8-ac27-fabb65da8243",
   "metadata": {},
   "source": [
    "# Graph Lab"
   ]
  },
  {
   "cell_type": "markdown",
   "id": "0287692e-0294-4c54-8ad3-c8d8425ab85c",
   "metadata": {},
   "source": [
    "## Header information:\n",
    "\n",
    "  - Author #1: Evan Placenis (placenie@mcmaster.ca)\n",
    "  - Author #2: Jad Haytaoglu (email@mcmaster.ca)\n",
    "  - Gitlab URL: http://gitlab.cas.mcmaster.ca/haytaogj/l1-graph-lab\n",
    "  - Avenue to Learn group name: Graph 45"
   ]
  },
  {
   "cell_type": "code",
<<<<<<< Updated upstream
   "execution_count": 6,
=======
   "execution_count": 4,
>>>>>>> Stashed changes
   "id": "a5bfd5d2-d70e-4289-aec2-0810e6812328",
   "metadata": {},
   "outputs": [
    {
     "ename": "ModuleNotFoundError",
<<<<<<< Updated upstream
     "evalue": "No module named 'Graph'",
=======
     "evalue": "No module named 'Graphing'",
>>>>>>> Stashed changes
     "output_type": "error",
     "traceback": [
      "\u001b[1;31m---------------------------------------------------------------------------\u001b[0m",
      "\u001b[1;31mModuleNotFoundError\u001b[0m                       Traceback (most recent call last)",
<<<<<<< Updated upstream
      "Cell \u001b[1;32mIn [6], line 3\u001b[0m\n\u001b[0;32m      1\u001b[0m \u001b[38;5;28;01mimport\u001b[39;00m \u001b[38;5;21;01msys\u001b[39;00m\n\u001b[0;32m      2\u001b[0m sys\u001b[38;5;241m.\u001b[39mpath\u001b[38;5;241m.\u001b[39mappend(\u001b[38;5;124m'\u001b[39m\u001b[38;5;124m/src/Graph\u001b[39m\u001b[38;5;124m'\u001b[39m)\n\u001b[1;32m----> 3\u001b[0m \u001b[38;5;28;01mfrom\u001b[39;00m \u001b[38;5;21;01mGraph\u001b[39;00m \u001b[38;5;28;01mimport\u001b[39;00m Graph\n\u001b[0;32m      4\u001b[0m \u001b[38;5;28;01mfrom\u001b[39;00m \u001b[38;5;21;01mmatplotlib\u001b[39;00m \u001b[38;5;28;01mimport\u001b[39;00m pyplot \u001b[38;5;28;01mas\u001b[39;00m plt\n\u001b[0;32m      6\u001b[0m \u001b[38;5;66;03m#from src.Graph import Graph\u001b[39;00m\n",
      "\u001b[1;31mModuleNotFoundError\u001b[0m: No module named 'Graph'"
=======
      "\u001b[1;32mc:\\Users\\jadha\\Documents\\Uni Work\\Third Year\\HandIns\\3XB3\\lab1\\l1-graph-lab\\graph_lab.ipynb Cell 3\u001b[0m in \u001b[0;36m<cell line: 2>\u001b[1;34m()\u001b[0m\n\u001b[0;32m      <a href='vscode-notebook-cell:/c%3A/Users/jadha/Documents/Uni%20Work/Third%20Year/HandIns/3XB3/lab1/l1-graph-lab/graph_lab.ipynb#W2sZmlsZQ%3D%3D?line=0'>1</a>\u001b[0m \u001b[39mfrom\u001b[39;00m \u001b[39mmatplotlib\u001b[39;00m \u001b[39mimport\u001b[39;00m pyplot \u001b[39mas\u001b[39;00m plt\n\u001b[1;32m----> <a href='vscode-notebook-cell:/c%3A/Users/jadha/Documents/Uni%20Work/Third%20Year/HandIns/3XB3/lab1/l1-graph-lab/graph_lab.ipynb#W2sZmlsZQ%3D%3D?line=1'>2</a>\u001b[0m \u001b[39mfrom\u001b[39;00m \u001b[39msrc\u001b[39;00m\u001b[39m.\u001b[39;00m\u001b[39mBuildGraph\u001b[39;00m \u001b[39mimport\u001b[39;00m BuildGraph\n\u001b[0;32m      <a href='vscode-notebook-cell:/c%3A/Users/jadha/Documents/Uni%20Work/Third%20Year/HandIns/3XB3/lab1/l1-graph-lab/graph_lab.ipynb#W2sZmlsZQ%3D%3D?line=2'>3</a>\u001b[0m \u001b[39mfrom\u001b[39;00m \u001b[39msrc\u001b[39;00m\u001b[39m.\u001b[39;00m\u001b[39mGraph\u001b[39;00m \u001b[39mimport\u001b[39;00m Graph\n\u001b[0;32m      <a href='vscode-notebook-cell:/c%3A/Users/jadha/Documents/Uni%20Work/Third%20Year/HandIns/3XB3/lab1/l1-graph-lab/graph_lab.ipynb#W2sZmlsZQ%3D%3D?line=3'>4</a>\u001b[0m \u001b[39mimport\u001b[39;00m \u001b[39mcsv\u001b[39;00m\n",
      "File \u001b[1;32mc:\\Users\\jadha\\Documents\\Uni Work\\Third Year\\HandIns\\3XB3\\lab1\\l1-graph-lab\\src\\BuildGraph.py:1\u001b[0m, in \u001b[0;36m<module>\u001b[1;34m\u001b[0m\n\u001b[1;32m----> 1\u001b[0m \u001b[39mfrom\u001b[39;00m \u001b[39mGraph\u001b[39;00m \u001b[39mimport\u001b[39;00m Graph\n\u001b[0;32m      2\u001b[0m \u001b[39mimport\u001b[39;00m \u001b[39mcsv\u001b[39;00m\n\u001b[0;32m      4\u001b[0m \u001b[39mclass\u001b[39;00m \u001b[39mBuildGraph\u001b[39;00m:   \n",
      "\u001b[1;31mModuleNotFoundError\u001b[0m: No module named 'Graphing'"
>>>>>>> Stashed changes
     ]
    }
   ],
   "source": [
    "from matplotlib import pyplot as plt\n",
<<<<<<< Updated upstream
    "from src.Graph import Graph\n",
    "from src.BuildGraph import BuildGraph\n",
    "from src.absractMetrics import nodeDegreeStrategy\n",
=======
    "from src.BuildGraph import BuildGraph\n",
    "from src.Graphing import Graph\n",
>>>>>>> Stashed changes
    "import csv\n",
    "\n",
    "\n",
    "app = BuildGraph()\n",
    "graph = app.build_graph()\n",
    "\n",
    "adjList = graph.get_adjList()\n",
    "\n",
    "def process_metrics(processingStrategy: graphMetricsStrategy):\n",
    "    metric = processingStrategy.create_metric(adjList)\n",
    "\n",
    "#degree    \n",
    "dev_x = []\n",
    "#number of nodes with such degree\n",
    "dev_y = []\n",
    "\n",
    "index = 0\n",
    "\n",
    "def graph_metric(metric):\n",
    "    for tuple in metric:\n",
    "        #check if the degree is in x axis and increment y if it is, otherwise create new degree for x\n",
    "        if tulpe[1] in dev_x:\n",
    "            index = dev_x.index(tuple[1])\n",
    "            if len(dev_y < index):\n",
    "                dev_y\n",
    "            dev_y[index] += 1\n",
    "        else:\n",
    "            for i in dev_x:\n",
    "                if tuple[1] > i:\n",
    "                    dev_x.insert(i+1,tuple[1])\n",
    "                    \n",
    "\n",
    "\n",
    "plt.plot(dev_x, dev_y)\n",
    "\n",
    "plt.xlabel('degree')\n",
    "plt.ylabel('# of nodes')\n",
    "plt.title('distribution of nodes degree')"
   ]
  },
  {
   "cell_type": "code",
   "execution_count": null,
   "id": "162f1093-f49d-4de5-a01c-fe6d61d9b438",
   "metadata": {},
   "outputs": [],
   "source": []
  }
 ],
 "metadata": {
  "kernelspec": {
   "display_name": "Python 3.10.7 64-bit (microsoft store)",
   "language": "python",
   "name": "python3"
  },
  "language_info": {
   "codemirror_mode": {
    "name": "ipython",
    "version": 3
   },
   "file_extension": ".py",
   "mimetype": "text/x-python",
   "name": "python",
   "nbconvert_exporter": "python",
   "pygments_lexer": "ipython3",
   "version": "3.10.7"
  },
  "vscode": {
   "interpreter": {
    "hash": "c669256dfc62c2343c2ee60aabb713da17682b171b24d127ff4ccab04f33bad2"
   }
  }
 },
 "nbformat": 4,
 "nbformat_minor": 5
}
