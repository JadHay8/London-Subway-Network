{
 "cells": [
  {
   "cell_type": "markdown",
   "id": "2d65a8a5-860e-41d8-ac27-fabb65da8243",
   "metadata": {},
   "source": [
    "# Graph Lab"
   ]
  },
  {
   "cell_type": "markdown",
   "id": "0287692e-0294-4c54-8ad3-c8d8425ab85c",
   "metadata": {},
   "source": [
    "## Header information:\n",
    "\n",
    "  - Author #1: Evan Placenis (placenie@mcmaster.ca)\n",
    "  - Author #2: Jad Haytaoglu (email@mcmaster.ca)\n",
    "  - Gitlab URL: http://gitlab.cas.mcmaster.ca/haytaogj/l1-graph-lab\n",
    "  - Avenue to Learn group name: Graph 45"
   ]
  },
  {
   "cell_type": "markdown",
   "id": "840f5ebb",
   "metadata": {},
   "source": [
    "In our program we utilized two instances of the strategy design pattern and a strong object-oriented architecture to accomplish the functionality of week one. We decided that implementing the strategy design pattern was an appropriate choice for creating both graph metrics and graph algorithms for multiple reasons. By choosing Strategy we are able to easily add more metric extractions and graph algorithms to our software while also allowing us to remove these functionalities without breaking existing code. Strategy also required us to create a separate class for each task, allowing us to achieve the single responsibility principle which makes the code more readable and mainable. In addition, each low level metric extraction and algorithm class depends on abstractions which decouples the dependencies and allows for easier re-use of functionality. By defining a family of algorithms, it allows a specific algorithm to be chosen and switched at runtime which was helpful when benchmarking and testing our code.\n",
    "\n",
    "For our graph implementation we don’t currently see the need to apply the open closed principle because we are working with fixed data, and we don’t need to modify the functionality of the graph. For this reason we have simply decided to delegate the responsibility between the BuildGraph and Graph classes. BuildGraph is responsible for extracting the data from the csv files and depends on the Graph class to build the data structures. This again follows the single responsibility principle.\n",
    "\n",
    "Lastly we delegated tasks such as plotting data, building the itinerary, and running each benchmark to separate classes to keep a strong object-oriented architecture. All classes are used in our client class “App”  and we process metric extraction and graph algorithms in the main function.  This program also follows interface segregation as App is never forced to implement an interface that it does not use.\n",
    "\n",
    "\n",
    "\n",
    "\n"
   ]
  },
  {
   "cell_type": "code",
   "execution_count": null,
   "id": "a5bfd5d2-d70e-4289-aec2-0810e6812328",
   "metadata": {},
   "outputs": [],
   "source": [
    "\n",
    "\n"
   ]
  },
  {
   "cell_type": "code",
   "execution_count": null,
   "id": "162f1093-f49d-4de5-a01c-fe6d61d9b438",
   "metadata": {},
   "outputs": [],
   "source": []
  }
 ],
 "metadata": {
  "kernelspec": {
   "display_name": "Python 3.10.7 64-bit (microsoft store)",
   "language": "python",
   "name": "python3"
  },
  "language_info": {
   "codemirror_mode": {
    "name": "ipython",
    "version": 3
   },
   "file_extension": ".py",
   "mimetype": "text/x-python",
   "name": "python",
   "nbconvert_exporter": "python",
   "pygments_lexer": "ipython3",
   "version": "3.10.7"
  },
  "vscode": {
   "interpreter": {
    "hash": "c669256dfc62c2343c2ee60aabb713da17682b171b24d127ff4ccab04f33bad2"
   }
  }
 },
 "nbformat": 4,
 "nbformat_minor": 5
}
